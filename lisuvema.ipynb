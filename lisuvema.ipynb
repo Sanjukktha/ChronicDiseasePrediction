{
 "cells": [
  {
   "cell_type": "code",
   "execution_count": 10,
   "metadata": {},
   "outputs": [],
   "source": [
    "import timeit\n",
    "import warnings\n",
    "warnings.filterwarnings('ignore') \n",
    "\n",
    "import numpy as np\n",
    "import pandas as pd\n",
    "import matplotlib.pyplot as plt"
   ]
  },
  {
   "cell_type": "code",
   "execution_count": 11,
   "metadata": {},
   "outputs": [],
   "source": [
    "ckd=pd.read_csv(\"final.csv\")\n",
    "y = ckd['Class']\n",
    "# no feature seleection\n",
    "new_ckd = ckd.drop(['Class'], axis=1)\n",
    "#correlation \n",
    "#new_ckd = ckd.drop(['Class','Age','Bp', 'Sg', 'Su','Rbc','Pcc','Ba','Sod','Pot','Wbcc','Pcv','Rbcc','Htn','Dm','Cad','Appet','pe','Ane'], axis=1)\n",
    "#lasso \n",
    "#new_ckd = ckd.drop(['Class','Age', 'Bp', 'Pc', 'Pcc', 'Ba', 'Bu', 'Pot', 'Wbcc', 'Rbcc', 'Cad','Ane'], axis=1) \n",
    "#wrapper\n",
    "#new_ckd = ckd.drop(['Class','Age', 'Bp', 'Su', 'Pc', 'Pcc', 'Ba', 'Bgr', 'Bu', 'Sc', 'Sod', 'Pot', 'Hemo', 'Pcv', 'Wbcc', 'Rbcc', 'Htn', 'Cad', 'Appet', 'pe', 'Ane'], axis=1)\n",
    "\n",
    "\n"
   ]
  },
  {
   "cell_type": "code",
   "execution_count": 12,
   "metadata": {},
   "outputs": [],
   "source": [
    "from sklearn.model_selection import train_test_split\n",
    "\n",
    "X_train, X_test, y_train, y_test = train_test_split(new_ckd, y, test_size=0.5, random_state=0)"
   ]
  },
  {
   "cell_type": "code",
   "execution_count": 13,
   "metadata": {},
   "outputs": [
    {
     "data": {
      "text/plain": [
       "\"print('Accuracy Score : '  + str(accuracy_score(y_test,y_pred)))\\nprint('Precision Score : ' + str(precision_score(y_test,y_pred)))\\nprint('Recall Score : '    + str(recall_score(y_test,y_pred)))\\n\\nprint('F1 Score : '        + str(f1_score(y_test,y_pred)))  \\n\\n#Logistic Regression Classifier Confusion matrix\\nfrom sklearn.metrics import confusion_matrix\\nprint('Confusion Matrix : \\n' + str(confusion_matrix(y_test,y_pred)))\""
      ]
     },
     "execution_count": 13,
     "metadata": {},
     "output_type": "execute_result"
    }
   ],
   "source": [
    "from sklearn.svm import SVR  \n",
    "\n",
    "clf = SVR().fit(X_train,y_train)\n",
    "y_pred = clf.predict(X_test)\n",
    "# Model Evaluation metrics \n",
    "from sklearn.metrics import accuracy_score,recall_score,precision_score,f1_score \n",
    "\"\"\"print('Accuracy Score : '  + str(accuracy_score(y_test,y_pred)))\n",
    "print('Precision Score : ' + str(precision_score(y_test,y_pred)))\n",
    "print('Recall Score : '    + str(recall_score(y_test,y_pred)))\n",
    "\n",
    "print('F1 Score : '        + str(f1_score(y_test,y_pred)))  \n",
    "\n",
    "#Logistic Regression Classifier Confusion matrix\n",
    "from sklearn.metrics import confusion_matrix\n",
    "print('Confusion Matrix : \\n' + str(confusion_matrix(y_test,y_pred)))\"\"\""
   ]
  },
  {
   "cell_type": "code",
   "execution_count": 14,
   "metadata": {},
   "outputs": [
    {
     "name": "stdout",
     "output_type": "stream",
     "text": [
      "gini 36.382267285082534\n",
      "Precision 63.5\n",
      "Recall 100.0\n",
      "f1 score 77.67584097859327\n",
      "roc auc score 68.19113364254127\n",
      "accuracy 63.5\n"
     ]
    }
   ],
   "source": [
    "from sklearn.metrics import roc_auc_score\n",
    "from sklearn.metrics import accuracy_score,recall_score,precision_score,f1_score \n",
    "newpred=y_pred.round()\n",
    "newpred=abs(newpred)\n",
    "precision=precision_score(y_test,newpred)\n",
    "recall=recall_score(y_test,newpred)\n",
    "f1=f1_score(y_test,newpred)\n",
    "accuracy=accuracy_score(y_test,newpred)\n",
    "auc=roc_auc_score(y_test,y_pred)\n",
    "gini=2*auc-1\n",
    "print(\"gini\",gini*100)\n",
    "print(\"Precision\",precision*100)\n",
    "print(\"Recall\",recall*100)\n",
    "print(\"f1 score\",f1*100)\n",
    "print(\"roc auc score\",auc*100)\n",
    "print(\"accuracy\",accuracy*100)"
   ]
  }
 ],
 "metadata": {
  "kernelspec": {
   "display_name": "myenv",
   "language": "python",
   "name": "python3"
  },
  "language_info": {
   "codemirror_mode": {
    "name": "ipython",
    "version": 3
   },
   "file_extension": ".py",
   "mimetype": "text/x-python",
   "name": "python",
   "nbconvert_exporter": "python",
   "pygments_lexer": "ipython3",
   "version": "3.9.16"
  },
  "orig_nbformat": 4
 },
 "nbformat": 4,
 "nbformat_minor": 2
}
