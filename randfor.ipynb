{
 "cells": [
  {
   "cell_type": "code",
   "execution_count": 1,
   "metadata": {},
   "outputs": [],
   "source": [
    "import pandas as pd\n",
    "import numpy as np\n",
    "import matplotlib.pyplot as plt\n",
    "%matplotlib inline"
   ]
  },
  {
   "cell_type": "code",
   "execution_count": 2,
   "metadata": {},
   "outputs": [],
   "source": [
    "ckd=pd.read_csv(\"final.csv\")\n",
    "y = ckd['Class']\n",
    "# no feature seleection\n",
    "#new_ckd = ckd.drop(['Class'], axis=1)\n",
    "#correlation \n",
    "new_ckd = ckd.drop(['Class','Age','Bp', 'Sg', 'Su','Rbc','Pcc','Ba','Sod','Pot','Wbcc','Pcv','Rbcc','Htn','Dm','Cad','Appet','pe','Ane'], axis=1)\n",
    "#lasso \n",
    "#new_ckd = ckd.drop(['Class','Age', 'Bp', 'Pc', 'Pcc', 'Ba', 'Bu', 'Pot', 'Wbcc', 'Rbcc', 'Cad','Ane'], axis=1) \n",
    "#wrapper\n",
    "#new_ckd = ckd.drop(['Class','Age', 'Bp', 'Su', 'Pc', 'Pcc', 'Ba', 'Bgr', 'Bu', 'Sc', 'Sod', 'Pot', 'Hemo', 'Pcv', 'Wbcc', 'Rbcc', 'Htn', 'Cad', 'Appet', 'pe', 'Ane'], axis=1)\n"
   ]
  },
  {
   "cell_type": "code",
   "execution_count": 3,
   "metadata": {},
   "outputs": [],
   "source": [
    "from sklearn.model_selection import train_test_split\n",
    "\n",
    "X_train, X_test, y_train, y_test = train_test_split(new_ckd, y, test_size=0.5, random_state=0)"
   ]
  },
  {
   "cell_type": "code",
   "execution_count": 4,
   "metadata": {},
   "outputs": [
    {
     "name": "stdout",
     "output_type": "stream",
     "text": [
      "Accuracy on training set: 1.000\n",
      "Accuracy on test set: 0.965\n"
     ]
    }
   ],
   "source": [
    "\n",
    "from sklearn.ensemble import RandomForestClassifier\n",
    "\n",
    "rf = RandomForestClassifier(n_estimators=100, random_state=0)\n",
    "rf.fit(X_train, y_train)\n",
    "print(\"Accuracy on training set: {:.3f}\".format(rf.score(X_train, y_train)))\n",
    "print(\"Accuracy on test set: {:.3f}\".format(rf.score(X_test, y_test)))"
   ]
  },
  {
   "cell_type": "code",
   "execution_count": 5,
   "metadata": {},
   "outputs": [
    {
     "name": "stdout",
     "output_type": "stream",
     "text": [
      "Accuracy on training set: 0.985\n",
      "Accuracy on test set: 0.955\n"
     ]
    }
   ],
   "source": [
    "rf1 = RandomForestClassifier(max_depth=3, n_estimators=100, random_state=0)\n",
    "rf1.fit(X_train, y_train)\n",
    "print(\"Accuracy on training set: {:.3f}\".format(rf1.score(X_train, y_train)))\n",
    "print(\"Accuracy on test set: {:.3f}\".format(rf1.score(X_test, y_test)))\n",
    "pred=rf1.predict(X_test)"
   ]
  },
  {
   "cell_type": "code",
   "execution_count": 6,
   "metadata": {},
   "outputs": [
    {
     "name": "stdout",
     "output_type": "stream",
     "text": [
      "gini 88.8361557545033\n",
      "Precision 94.6969696969697\n",
      "Recall 98.4251968503937\n",
      "f1 score 96.52509652509653\n",
      "roc auc score 94.41807787725165\n",
      "accuracy 95.5\n"
     ]
    }
   ],
   "source": [
    "from sklearn.metrics import roc_auc_score\n",
    "from sklearn.metrics import accuracy_score,recall_score,precision_score,f1_score \n",
    "newpred=pred.round()\n",
    "newpred=abs(newpred)\n",
    "precision=precision_score(y_test,newpred)\n",
    "recall=recall_score(y_test,newpred)\n",
    "f1=f1_score(y_test,newpred)\n",
    "accuracy=accuracy_score(y_test,newpred)\n",
    "auc=roc_auc_score(y_test,pred)\n",
    "gini=(2*auc)-1\n",
    "print(\"gini\",gini*100)\n",
    "print(\"Precision\",precision*100)\n",
    "print(\"Recall\",recall*100)\n",
    "print(\"f1 score\",f1*100)\n",
    "print(\"roc auc score\",auc*100)\n",
    "print(\"accuracy\",accuracy*100)"
   ]
  }
 ],
 "metadata": {
  "kernelspec": {
   "display_name": "myenv",
   "language": "python",
   "name": "python3"
  },
  "language_info": {
   "codemirror_mode": {
    "name": "ipython",
    "version": 3
   },
   "file_extension": ".py",
   "mimetype": "text/x-python",
   "name": "python",
   "nbconvert_exporter": "python",
   "pygments_lexer": "ipython3",
   "version": "3.9.16"
  },
  "orig_nbformat": 4
 },
 "nbformat": 4,
 "nbformat_minor": 2
}
