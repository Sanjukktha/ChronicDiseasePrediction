{
 "cells": [
  {
   "cell_type": "code",
   "execution_count": 59,
   "metadata": {},
   "outputs": [],
   "source": [
    "import pandas as pd\n",
    "import numpy as np\n",
    "import matplotlib.pyplot as plt\n",
    "%matplotlib inline"
   ]
  },
  {
   "cell_type": "code",
   "execution_count": 60,
   "metadata": {},
   "outputs": [],
   "source": [
    "ckd=pd.read_csv(\"final.csv\")"
   ]
  },
  {
   "cell_type": "code",
   "execution_count": 61,
   "metadata": {},
   "outputs": [],
   "source": [
    "y = ckd['Class']"
   ]
  },
  {
   "cell_type": "code",
   "execution_count": 62,
   "metadata": {},
   "outputs": [],
   "source": [
    "new_ckd = ckd.drop('Class', axis=1)\n",
    "new_ckd = new_ckd.drop('Age', axis=1)"
   ]
  },
  {
   "cell_type": "code",
   "execution_count": 63,
   "metadata": {},
   "outputs": [],
   "source": [
    "from sklearn.model_selection import train_test_split\n",
    "\n",
    "X_train, X_test, y_train, y_test = train_test_split(new_ckd, y, test_size=0.3, random_state=0)"
   ]
  },
  {
   "cell_type": "code",
   "execution_count": 64,
   "metadata": {},
   "outputs": [],
   "source": [
    "# with the following function we can select highly correlated features\n",
    "# it will remove the first feature that is correlated with anything else\n",
    "# without any further insight.\n",
    "\n",
    "def correlation(dataset, threshold):\n",
    "    \n",
    "    # create a set where I will store the names of correlated columns\n",
    "    col_corr = set()\n",
    "    \n",
    "    # create the correlation matrix\n",
    "    corr_matrix = dataset.corr()\n",
    "    \n",
    "    # for each feature in the dataset (columns of the correlation matrix)\n",
    "    for i in range(len(corr_matrix.columns)):\n",
    "        \n",
    "        # check with other features\n",
    "        for j in range(i):\n",
    "            \n",
    "            # if the correlation is higher than a certain threshold\n",
    "            if abs(corr_matrix.iloc[i, j]) > threshold: # we are interested in absolute coeff value\n",
    "                \n",
    "                # print correlation, and variables examined\n",
    "                # keep in mind that the columns and rows of the dataframe are identical\n",
    "                # so we can identify the features being examned by looking for i,j\n",
    "                # in the column names\n",
    "                print(abs(corr_matrix.iloc[i, j]), corr_matrix.columns[i], corr_matrix.columns[j])\n",
    "                \n",
    "                # get the name of the correlated feature\n",
    "                colname = corr_matrix.columns[j]\n",
    "                \n",
    "                # and add it to our correlated set\n",
    "                col_corr.add(colname)\n",
    "                \n",
    "    return col_corr"
   ]
  },
  {
   "cell_type": "code",
   "execution_count": 65,
   "metadata": {},
   "outputs": [
    {
     "name": "stdout",
     "output_type": "stream",
     "text": [
      "0.42225050639410183 Al Sg\n",
      "0.5302125231851449 Pc Al\n",
      "0.5630393335453477 Pcc Pc\n",
      "0.5788447929259859 Bgr Su\n",
      "0.626350292551759 Sc Bu\n",
      "0.40332596995983666 Sod Al\n",
      "0.4302954473570444 Pot Bu\n",
      "0.47015563589440296 Hemo Sg\n",
      "0.5165706282656113 Hemo Al\n",
      "0.4760122018498381 Hemo Pc\n",
      "0.48722683905101927 Hemo Bu\n",
      "0.4556593416684063 Hemo Sod\n",
      "0.48593073423694966 Pcv Sg\n",
      "0.4894360366460531 Pcv Al\n",
      "0.4840984567298823 Pcv Pc\n",
      "0.47866590850341684 Pcv Bu\n",
      "0.4531332812629797 Pcv Sod\n",
      "0.8569472440924638 Pcv Hemo\n",
      "0.4144629728382449 Rbcc Sg\n",
      "0.4042174120421352 Rbcc Al\n",
      "0.4374611864482033 Rbcc Pc\n",
      "0.4110886193308692 Rbcc Bu\n",
      "0.6765013738696887 Rbcc Hemo\n",
      "0.6912689412553678 Rbcc Pcv\n",
      "0.4952952077907445 Htn Al\n",
      "0.4147026136465112 Htn Sod\n",
      "0.5461684116622173 Htn Hemo\n",
      "0.5325485378248022 Htn Pcv\n",
      "0.47384021402252824 Htn Rbcc\n",
      "0.47401814806091236 Dm Su\n",
      "0.48878597494759346 Dm Bgr\n",
      "0.4644143775221832 Dm Hemo\n",
      "0.44890242359180205 Dm Pcv\n",
      "0.4184071797113837 Dm Rbcc\n",
      "0.6404568468299996 Dm Htn\n",
      "0.4191885997384054 pe Al\n",
      "0.4422514194088801 pe Appet\n",
      "0.526282073702543 Ane Hemo\n",
      "0.4810372113171589 Ane Pcv\n"
     ]
    },
    {
     "data": {
      "text/plain": [
       "12"
      ]
     },
     "execution_count": 65,
     "metadata": {},
     "output_type": "execute_result"
    }
   ],
   "source": [
    "corr_features = correlation(X_train, 0.4)\n",
    "len(set(corr_features))"
   ]
  },
  {
   "cell_type": "code",
   "execution_count": 66,
   "metadata": {},
   "outputs": [
    {
     "data": {
      "text/plain": [
       "{'Al',\n",
       " 'Appet',\n",
       " 'Bgr',\n",
       " 'Bu',\n",
       " 'Hemo',\n",
       " 'Htn',\n",
       " 'Pc',\n",
       " 'Pcv',\n",
       " 'Rbcc',\n",
       " 'Sg',\n",
       " 'Sod',\n",
       " 'Su'}"
      ]
     },
     "execution_count": 66,
     "metadata": {},
     "output_type": "execute_result"
    }
   ],
   "source": [
    "corr_features"
   ]
  },
  {
   "cell_type": "code",
   "execution_count": 67,
   "metadata": {},
   "outputs": [
    {
     "data": {
      "text/html": [
       "<div>\n",
       "<style scoped>\n",
       "    .dataframe tbody tr th:only-of-type {\n",
       "        vertical-align: middle;\n",
       "    }\n",
       "\n",
       "    .dataframe tbody tr th {\n",
       "        vertical-align: top;\n",
       "    }\n",
       "\n",
       "    .dataframe thead th {\n",
       "        text-align: right;\n",
       "    }\n",
       "</style>\n",
       "<table border=\"1\" class=\"dataframe\">\n",
       "  <thead>\n",
       "    <tr style=\"text-align: right;\">\n",
       "      <th></th>\n",
       "      <th>feature1</th>\n",
       "      <th>feature2</th>\n",
       "      <th>corr</th>\n",
       "    </tr>\n",
       "  </thead>\n",
       "  <tbody>\n",
       "    <tr>\n",
       "      <th>0</th>\n",
       "      <td>Pcv</td>\n",
       "      <td>Hemo</td>\n",
       "      <td>0.856947</td>\n",
       "    </tr>\n",
       "    <tr>\n",
       "      <th>1</th>\n",
       "      <td>Hemo</td>\n",
       "      <td>Pcv</td>\n",
       "      <td>0.856947</td>\n",
       "    </tr>\n",
       "    <tr>\n",
       "      <th>2</th>\n",
       "      <td>Pcv</td>\n",
       "      <td>Rbcc</td>\n",
       "      <td>0.691269</td>\n",
       "    </tr>\n",
       "    <tr>\n",
       "      <th>3</th>\n",
       "      <td>Rbcc</td>\n",
       "      <td>Pcv</td>\n",
       "      <td>0.691269</td>\n",
       "    </tr>\n",
       "    <tr>\n",
       "      <th>4</th>\n",
       "      <td>Rbcc</td>\n",
       "      <td>Hemo</td>\n",
       "      <td>0.676501</td>\n",
       "    </tr>\n",
       "  </tbody>\n",
       "</table>\n",
       "</div>"
      ],
      "text/plain": [
       "  feature1 feature2      corr\n",
       "0      Pcv     Hemo  0.856947\n",
       "1     Hemo      Pcv  0.856947\n",
       "2      Pcv     Rbcc  0.691269\n",
       "3     Rbcc      Pcv  0.691269\n",
       "4     Rbcc     Hemo  0.676501"
      ]
     },
     "execution_count": 67,
     "metadata": {},
     "output_type": "execute_result"
    }
   ],
   "source": [
    "# build a dataframe with the correlation between features\n",
    "# remember that the absolute value of the correlation\n",
    "# coefficient is important and not the sign\n",
    "\n",
    "corrmat = X_train.corr()\n",
    "corrmat = corrmat.abs().unstack() # absolute value of corr coef\n",
    "corrmat = corrmat.sort_values(ascending=False)\n",
    "corrmat = corrmat[corrmat >= 0.4]\n",
    "corrmat = corrmat[corrmat < 1]\n",
    "corrmat = pd.DataFrame(corrmat).reset_index()\n",
    "corrmat.columns = ['feature1', 'feature2', 'corr']\n",
    "corrmat.head()"
   ]
  },
  {
   "cell_type": "code",
   "execution_count": 68,
   "metadata": {},
   "outputs": [
    {
     "name": "stdout",
     "output_type": "stream",
     "text": [
      "found 6 correlated groups\n",
      "out of 23 total features\n"
     ]
    }
   ],
   "source": [
    "grouped_feature_ls = []\n",
    "correlated_groups = []\n",
    "\n",
    "for feature in corrmat.feature1.unique():\n",
    "    \n",
    "    if feature not in grouped_feature_ls:\n",
    "\n",
    "        # find all features correlated to a single feature\n",
    "        correlated_block = corrmat[corrmat.feature1 == feature]\n",
    "        grouped_feature_ls = grouped_feature_ls + list(\n",
    "            correlated_block.feature2.unique()) + [feature]\n",
    "\n",
    "        # append the block of features to the list\n",
    "        correlated_groups.append(correlated_block)\n",
    "\n",
    "print('found {} correlated groups'.format(len(correlated_groups)))\n",
    "print('out of {} total features'.format(X_train.shape[1]))"
   ]
  },
  {
   "cell_type": "code",
   "execution_count": 69,
   "metadata": {},
   "outputs": [
    {
     "name": "stdout",
     "output_type": "stream",
     "text": [
      "   feature  importance\n",
      "0     Hemo    0.257815\n",
      "10     Pcv    0.200480\n",
      "3       Al    0.166865\n",
      "4       Sg    0.109635\n",
      "2      Htn    0.080327\n",
      "1     Rbcc    0.073722\n",
      "9       Dm    0.047071\n",
      "8      Sod    0.033362\n",
      "7       Bu    0.016663\n",
      "5       Pc    0.012749\n",
      "6      Ane    0.001312\n",
      "  feature  importance\n",
      "1      Sc    0.645964\n",
      "0      Bu    0.354036\n",
      "  feature  importance\n",
      "2     Bgr    0.446639\n",
      "1      Dm    0.361457\n",
      "0      Su    0.191904\n",
      "  feature  importance\n",
      "0      Pc    0.809021\n",
      "1     Pcc    0.190979\n",
      "  feature  importance\n",
      "1      Al    0.730380\n",
      "0   Appet    0.150398\n",
      "2      pe    0.119222\n",
      "  feature  importance\n",
      "0      Bu     0.59036\n",
      "1     Pot     0.40964\n"
     ]
    }
   ],
   "source": [
    "from sklearn.ensemble import RandomForestClassifier\n",
    "\n",
    "# add all features of the group to a list\n",
    "for group in correlated_groups:\n",
    "    tempo=list(group['feature1'].unique())\n",
    "    features = list(group['feature2'].unique())+tempo\n",
    "\n",
    "    # train a random forest \n",
    "    rf = RandomForestClassifier(n_estimators=200, random_state=39, max_depth=4)\n",
    "    rf.fit(X_train[features].fillna(0), y_train)\n",
    "    importance = pd.concat(\n",
    "    [pd.Series(features),\n",
    "     pd.Series(rf.feature_importances_)], axis=1)\n",
    "\n",
    "    importance.columns = ['feature', 'importance']\n",
    "\n",
    "    # sort features by importance, most important first\n",
    "    print(importance.sort_values(by='importance', ascending=False))\n",
    "    "
   ]
  }
 ],
 "metadata": {
  "kernelspec": {
   "display_name": "myenv",
   "language": "python",
   "name": "python3"
  },
  "language_info": {
   "codemirror_mode": {
    "name": "ipython",
    "version": 3
   },
   "file_extension": ".py",
   "mimetype": "text/x-python",
   "name": "python",
   "nbconvert_exporter": "python",
   "pygments_lexer": "ipython3",
   "version": "3.9.16"
  },
  "orig_nbformat": 4
 },
 "nbformat": 4,
 "nbformat_minor": 2
}
