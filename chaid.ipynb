{
 "cells": [
  {
   "cell_type": "code",
   "execution_count": 36,
   "metadata": {},
   "outputs": [],
   "source": [
    "import pandas as pd\n",
    "from sklearn.tree import DecisionTreeClassifier\n",
    "from sklearn.metrics import accuracy_score\n",
    "import matplotlib.pyplot as plt\n",
    "from sklearn import tree\n",
    "from sklearn.metrics import confusion_matrix, classification_report, accuracy_score"
   ]
  },
  {
   "cell_type": "code",
   "execution_count": 37,
   "metadata": {},
   "outputs": [],
   "source": [
    "ckd=pd.read_csv(\"final.csv\")\n",
    "y = ckd['Class']\n",
    "dependent_var=['Class']\n",
    "# no feature seleection\n",
    "#new_ckd = ckd.drop(['Class'], axis=1)\n",
    "#independent_vars=['Age','Bp','Sg','Al','Su','Rbc','Pc','Pcc','Ba','Bgr','Bu','Sc','Sod','Pot','Hemo','Pcv','Wbcc','Rbcc','Htn','Dm','Cad','Appet','pe','Ane']\n",
    "#correlation \n",
    "#new_ckd = ckd.drop(['Class','Age','Bp', 'Sg', 'Su','Rbc','Pcc','Ba','Sod','Pot','Wbcc','Pcv','Rbcc','Htn','Dm','Cad','Appet','pe','Ane'], axis=1)\n",
    "#independent_vars=['Al','Pc','Bgr','Bu','Sc','Hemo']\n",
    "#lasso \n",
    "#new_ckd = ckd.drop(['Class','Age', 'Bp', 'Pc', 'Pcc', 'Ba', 'Bu', 'Pot', 'Wbcc', 'Rbcc', 'Cad','Ane'], axis=1) \n",
    "#independent_vars=['Sg','Al','Su','Rbc','Bgr','Sc','Sod','Hemo','Pcv','Htn','Dm','Appet','pe']\n",
    "#wrapper\n",
    "new_ckd = ckd.drop(['Class','Age', 'Bp', 'Su', 'Pc', 'Pcc', 'Ba', 'Bgr', 'Bu', 'Sc', 'Sod', 'Pot', 'Hemo', 'Pcv', 'Wbcc', 'Rbcc', 'Htn', 'Cad', 'Appet', 'pe', 'Ane'], axis=1)\n",
    "independent_vars=['Sg','Al','Rbc','Dm']\n"
   ]
  },
  {
   "cell_type": "code",
   "execution_count": 38,
   "metadata": {},
   "outputs": [],
   "source": [
    "from sklearn.model_selection import train_test_split\n",
    "\n",
    "X_train, X_test, y_train, y_test = train_test_split(new_ckd, y, test_size=0.5, random_state=0)"
   ]
  },
  {
   "cell_type": "code",
   "execution_count": 39,
   "metadata": {},
   "outputs": [],
   "source": [
    "from CHAID import Tree\n",
    "\n",
    "ctr = Tree.from_pandas_df(X_train.join(y_train), \n",
    "                           dict(zip(independent_vars, [\"nominal\"] * len(independent_vars))),\n",
    "                           dependent_var, \n",
    "                           max_depth=5)\n",
    "from CHAID import Tree\n",
    "\n",
    "ctr1 = Tree.from_pandas_df(X_test.join(y_test), \n",
    "                           dict(zip(independent_vars, [\"nominal\"] * len(independent_vars))),\n",
    "                           dependent_var, \n",
    "                           max_depth=2)\n"
   ]
  },
  {
   "cell_type": "code",
   "execution_count": 40,
   "metadata": {},
   "outputs": [
    {
     "name": "stdout",
     "output_type": "stream",
     "text": [
      "training set accuracy is : 0.96\n"
     ]
    }
   ],
   "source": [
    "from sklearn.metrics import accuracy_score\n",
    "predictions = pd.Series(ctr.model_predictions())\n",
    "predictions=predictions.tolist()\n",
    "accuracytr=accuracy_score(y_train,predictions)\n",
    "print(\"training set accuracy is :\",accuracytr)"
   ]
  },
  {
   "cell_type": "code",
   "execution_count": 41,
   "metadata": {},
   "outputs": [],
   "source": [
    "y_pred = pd.Series(ctr1.model_predictions().tolist())\n"
   ]
  },
  {
   "cell_type": "code",
   "execution_count": 42,
   "metadata": {},
   "outputs": [
    {
     "name": "stdout",
     "output_type": "stream",
     "text": [
      "gini 92.15834322079604\n",
      "Precision 96.875\n",
      "Recall 97.63779527559055\n",
      "f1 score 97.25490196078432\n",
      "roc auc score 96.07917161039802\n",
      "accuracy 96.5\n"
     ]
    }
   ],
   "source": [
    "from sklearn.metrics import roc_auc_score\n",
    "from sklearn.metrics import accuracy_score,recall_score,precision_score,f1_score \n",
    "newpred=y_pred.round()\n",
    "newpred=abs(newpred)\n",
    "precision=precision_score(y_test,newpred)\n",
    "recall=recall_score(y_test,newpred)\n",
    "f1=f1_score(y_test,newpred)\n",
    "accuracy=accuracy_score(y_test,newpred)\n",
    "auc=roc_auc_score(y_test,y_pred)\n",
    "gini=2*auc-1\n",
    "print(\"gini\",gini)\n",
    "print(\"Precision\",precision*100)\n",
    "print(\"Recall\",recall*100)\n",
    "print(\"f1 score\",f1*100)\n",
    "print(\"roc auc score\",auc*100)\n",
    "print(\"accuracy\",accuracy*100)"
   ]
  }
 ],
 "metadata": {
  "kernelspec": {
   "display_name": "myenv",
   "language": "python",
   "name": "python3"
  },
  "language_info": {
   "codemirror_mode": {
    "name": "ipython",
    "version": 3
   },
   "file_extension": ".py",
   "mimetype": "text/x-python",
   "name": "python",
   "nbconvert_exporter": "python",
   "pygments_lexer": "ipython3",
   "version": "3.9.16"
  },
  "orig_nbformat": 4
 },
 "nbformat": 4,
 "nbformat_minor": 2
}
