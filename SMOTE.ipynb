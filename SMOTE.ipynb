{
 "cells": [
  {
   "cell_type": "code",
   "execution_count": 7,
   "metadata": {},
   "outputs": [],
   "source": [
    "import glob\n",
    "from keras.models import Sequential, load_model\n",
    "import numpy as np\n",
    "import pandas as pd\n",
    "from keras.layers import Dense\n",
    "from sklearn.model_selection import train_test_split\n",
    "from sklearn.preprocessing import LabelEncoder, MinMaxScaler\n",
    "import matplotlib.pyplot as plt\n",
    "import keras as k"
   ]
  },
  {
   "cell_type": "code",
   "execution_count": 8,
   "metadata": {},
   "outputs": [],
   "source": [
    "ckd=pd.read_csv(\"final.csv\")\n",
    "y = ckd['Class']\n",
    "# no feature seleection\n",
    "#new_ckd = ckd.drop(['Class'], axis=1)\n",
    "#correlation \n",
    "new_ckd = ckd.drop(['Class','Age','Bp', 'Sg', 'Su','Rbc','Pcc','Ba','Sod','Pot','Wbcc','Pcv','Rbcc','Htn','Dm','Cad','Appet','pe','Ane'], axis=1)\n",
    "#lasso \n",
    "#new_ckd = ckd.drop(['Class','Age', 'Bp', 'Pc', 'Pcc', 'Ba', 'Bu', 'Pot', 'Wbcc', 'Rbcc', 'Cad','Ane'], axis=1) \n",
    "#wrapper\n",
    "#new_ckd = ckd.drop(['Class','Age', 'Bp', 'Su', 'Pc', 'Pcc', 'Ba', 'Bgr', 'Bu', 'Sc', 'Sod', 'Pot', 'Hemo', 'Pcv', 'Wbcc', 'Rbcc', 'Htn', 'Cad', 'Appet', 'pe', 'Ane'], axis=1)\n"
   ]
  },
  {
   "cell_type": "code",
   "execution_count": 9,
   "metadata": {},
   "outputs": [],
   "source": [
    "from imblearn.over_sampling import SMOTE\n",
    "import pandas as pd\n",
    "\n",
    "\n",
    "# Create SMOTE object\n",
    "smote = SMOTE(random_state=42,sampling_strategy='minority')\n",
    "\n",
    "# Apply SMOTE to the data\n",
    "X_resampled, y_resampled = smote.fit_resample(new_ckd, y)\n",
    "\n",
    "# Now X_resampled and y_resampled contain the resampled data\n"
   ]
  },
  {
   "cell_type": "code",
   "execution_count": 10,
   "metadata": {},
   "outputs": [
    {
     "name": "stdout",
     "output_type": "stream",
     "text": [
      "      Al   Pc         Bgr         Bu        Sc       Hemo\n",
      "0    1.0  1.0  121.000000  36.000000  1.200000  15.400000\n",
      "1    4.0  1.0  148.040000  18.000000  0.800000  11.300000\n",
      "2    2.0  1.0  423.000000  53.000000  1.800000   9.600000\n",
      "3    4.0  0.0  117.000000  56.000000  3.800000  11.200000\n",
      "4    2.0  1.0  106.000000  26.000000  1.400000  11.600000\n",
      "..   ...  ...         ...        ...       ...        ...\n",
      "495  0.0  1.0   99.601176  48.404702  1.200000  15.475650\n",
      "496  0.0  1.0  101.449296  17.367136  0.418357  14.416432\n",
      "497  0.0  1.0   98.798345  19.201655  0.500000  13.660496\n",
      "498  0.0  1.0  129.547847  49.698565  1.094498  15.439713\n",
      "499  0.0  1.0   79.967205  46.967205  0.600000  16.001640\n",
      "\n",
      "[500 rows x 6 columns]\n",
      "0      1\n",
      "1      1\n",
      "2      1\n",
      "3      1\n",
      "4      1\n",
      "      ..\n",
      "495    0\n",
      "496    0\n",
      "497    0\n",
      "498    0\n",
      "499    0\n",
      "Name: Class, Length: 500, dtype: int64\n"
     ]
    }
   ],
   "source": [
    "print(X_resampled)\n",
    "print(y_resampled)"
   ]
  }
 ],
 "metadata": {
  "kernelspec": {
   "display_name": "myenv",
   "language": "python",
   "name": "python3"
  },
  "language_info": {
   "codemirror_mode": {
    "name": "ipython",
    "version": 3
   },
   "file_extension": ".py",
   "mimetype": "text/x-python",
   "name": "python",
   "nbconvert_exporter": "python",
   "pygments_lexer": "ipython3",
   "version": "3.9.16"
  },
  "orig_nbformat": 4
 },
 "nbformat": 4,
 "nbformat_minor": 2
}
