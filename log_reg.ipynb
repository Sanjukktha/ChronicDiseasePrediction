{
 "cells": [
  {
   "cell_type": "code",
   "execution_count": 31,
   "metadata": {},
   "outputs": [],
   "source": [
    "import pandas as pd\n",
    "import numpy as np\n",
    "import matplotlib.pyplot as plt\n",
    "%matplotlib inline"
   ]
  },
  {
   "cell_type": "code",
   "execution_count": 32,
   "metadata": {},
   "outputs": [],
   "source": [
    "ckd=pd.read_csv(\"final.csv\")\n",
    "y = ckd['Class']\n",
    "# no feature seleection\n",
    "#new_ckd = ckd.drop(['Class'], axis=1)\n",
    "#correlation \n",
    "#new_ckd = ckd.drop(['Class','Age','Bp', 'Sg', 'Su','Rbc','Pcc','Ba','Sod','Pot','Wbcc','Pcv','Rbcc','Htn','Dm','Cad','Appet','pe','Ane'], axis=1)\n",
    "#lasso \n",
    "#new_ckd = ckd.drop(['Class','Age', 'Bp', 'Pc', 'Pcc', 'Ba', 'Bu', 'Pot', 'Wbcc', 'Rbcc', 'Cad','Ane'], axis=1) \n",
    "#wrapper\n",
    "new_ckd = ckd.drop(['Class','Age', 'Bp', 'Su', 'Pc', 'Pcc', 'Ba', 'Bgr', 'Bu', 'Sc', 'Sod', 'Pot', 'Hemo', 'Pcv', 'Wbcc', 'Rbcc', 'Htn', 'Cad', 'Appet', 'pe', 'Ane'], axis=1)\n"
   ]
  },
  {
   "cell_type": "code",
   "execution_count": 33,
   "metadata": {},
   "outputs": [],
   "source": [
    "from sklearn.model_selection import train_test_split\n",
    "\n",
    "X_train, X_test, y_train, y_test = train_test_split(new_ckd, y, test_size=0.5, random_state=0)"
   ]
  },
  {
   "cell_type": "code",
   "execution_count": 34,
   "metadata": {},
   "outputs": [
    {
     "name": "stdout",
     "output_type": "stream",
     "text": [
      "Training set accuracy: 0.615\n",
      "Test set accuracy: 0.635\n"
     ]
    }
   ],
   "source": [
    "from sklearn.linear_model import LogisticRegression\n",
    "\n",
    "logreg = LogisticRegression(C=0.01).fit(X_train, y_train)\n",
    "print(\"Training set accuracy: {:.3f}\".format(logreg.score(X_train, y_train)))\n",
    "print(\"Test set accuracy: {:.3f}\".format(logreg.score(X_test, y_test)))\n",
    "pred=logreg.predict(X_test)"
   ]
  },
  {
   "cell_type": "code",
   "execution_count": 35,
   "metadata": {},
   "outputs": [
    {
     "name": "stdout",
     "output_type": "stream",
     "text": [
      "gini 0.0\n",
      "Precision 63.5\n",
      "Recall 100.0\n",
      "f1 score 77.67584097859327\n",
      "roc auc score 50.0\n",
      "accuracy 63.5\n"
     ]
    }
   ],
   "source": [
    "from sklearn.metrics import roc_auc_score\n",
    "from sklearn.metrics import accuracy_score,recall_score,precision_score,f1_score \n",
    "newpred=pred.round()\n",
    "newpred=abs(newpred)\n",
    "precision=precision_score(y_test,newpred)\n",
    "recall=recall_score(y_test,newpred)\n",
    "f1=f1_score(y_test,newpred)\n",
    "accuracy=accuracy_score(y_test,newpred)\n",
    "auc=roc_auc_score(y_test,pred)\n",
    "gini=(2*auc)-1\n",
    "print(\"gini\",gini)\n",
    "print(\"Precision\",precision*100)\n",
    "print(\"Recall\",recall*100)\n",
    "print(\"f1 score\",f1*100)\n",
    "print(\"roc auc score\",auc*100)\n",
    "print(\"accuracy\",accuracy*100)"
   ]
  }
 ],
 "metadata": {
  "kernelspec": {
   "display_name": "myenv",
   "language": "python",
   "name": "python3"
  },
  "language_info": {
   "codemirror_mode": {
    "name": "ipython",
    "version": 3
   },
   "file_extension": ".py",
   "mimetype": "text/x-python",
   "name": "python",
   "nbconvert_exporter": "python",
   "pygments_lexer": "ipython3",
   "version": "3.9.16"
  },
  "orig_nbformat": 4
 },
 "nbformat": 4,
 "nbformat_minor": 2
}
